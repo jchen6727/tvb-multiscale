{
 "cells": [
  {
   "cell_type": "markdown",
   "source": [
    "# RedWongWang\n",
    "\n",
    "### https://github.com/the-virtual-brain/tvb-multiscale"
   ],
   "metadata": {
    "collapsed": false
   }
  },
  {
   "cell_type": "markdown",
   "source": [
    "import necessary objects"
   ],
   "metadata": {
    "collapsed": false
   }
  },
  {
   "cell_type": "code",
   "execution_count": 1,
   "outputs": [
    {
     "name": "stderr",
     "output_type": "stream",
     "text": [
      "/home/jovyan/packages/tvb-root/tvb_contrib/tvb/contrib/scripts/utils/data_structures_utils.py:718: SyntaxWarning: \"is\" with a literal. Did you mean \"==\"?\n",
      "  if (transpose is \"horizontal\" or \"row\" and shape[0] > shape[1]) or \\\n",
      "/home/jovyan/packages/tvb-root/tvb_contrib/tvb/contrib/scripts/utils/data_structures_utils.py:719: SyntaxWarning: \"is\" with a literal. Did you mean \"==\"?\n",
      "  (transpose is \"vertical\" or \"column\" and shape[0] < shape[1]):\n"
     ]
    },
    {
     "data": {
      "text/plain": "<Figure size 640x480 with 0 Axes>"
     },
     "metadata": {},
     "output_type": "display_data"
    }
   ],
   "source": [
    "import os, time, numpy\n",
    "\n",
    "from tvb.basic.profile import TvbProfile\n",
    "from tvb_multiscale.tvb_netpyne.config import *\n",
    "from tvb_multiscale.core.plot.plotter import Plotter\n",
    "from tvb_multiscale.core.tvb.cosimulator.models.wilson_cowan_constraint import WilsonCowan\n",
    "\n",
    "TvbProfile.set_profile(TvbProfile.LIBRARY_PROFILE)\n",
    "\n",
    "\n"
   ],
   "metadata": {
    "collapsed": false
   }
  },
  {
   "cell_type": "code",
   "execution_count": null,
   "outputs": [],
   "source": [],
   "metadata": {
    "collapsed": false
   }
  }
 ],
 "metadata": {
  "kernelspec": {
   "display_name": "Python 3",
   "language": "python",
   "name": "python3"
  },
  "language_info": {
   "codemirror_mode": {
    "name": "ipython",
    "version": 2
   },
   "file_extension": ".py",
   "mimetype": "text/x-python",
   "name": "python",
   "nbconvert_exporter": "python",
   "pygments_lexer": "ipython2",
   "version": "2.7.6"
  }
 },
 "nbformat": 4,
 "nbformat_minor": 0
}
